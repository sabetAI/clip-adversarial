{
 "cells": [
  {
   "cell_type": "code",
   "execution_count": null,
   "metadata": {},
   "outputs": [],
   "source": [
    "import json\n",
    "from PIL import Image\n",
    "\n",
    "import torch\n",
    "import torch.nn as nn\n",
    "from torch.utils.data import DataLoader\n",
    "\n",
    "import clip\n",
    "from transformers import CLIPImageProcessor, CLIPModel\n",
    "import pandas as pd\n",
    "from tqdm import tqdm\n",
    "\n",
    "from pathlib import Path"
   ]
  },
  {
   "cell_type": "code",
   "execution_count": null,
   "metadata": {},
   "outputs": [],
   "source": [
    "fake = [{'image' : str(s), 'label' : 1} for s in Path(\"train/fake\").glob(\"*\")]\n",
    "real = [{'image' : str(s), 'label' : 0} for s in Path(\"train/real\").glob(\"*\")]\n",
    "data = fake + real\n",
    "pd.DataFrame(data).to_json(\"train.json\", orient=\"records\", lines=True)\n",
    "\n",
    "adversarial = [{'image' : str(s), 'label' : 0} for s in Path(\"train/adversarial\").glob(\"*\")]\n",
    "pd.DataFrame(adversarial).to_json(\"train_adv.json\", orient=\"records\", lines=True)"
   ]
  },
  {
   "cell_type": "code",
   "execution_count": null,
   "metadata": {},
   "outputs": [],
   "source": [
    "class RealFakeDataset(torch.utils.data.Dataset):\n",
    "    def __init__(self, json_path, processor):\n",
    "        # Initialize image paths and corresponding texts\n",
    "        self.jsons = pd.read_json(json_path, lines=True)\n",
    "        self.processor = processor\n",
    "\n",
    "    def __len__(self):\n",
    "        return len(self.jsons)\n",
    "\n",
    "    def __getitem__(self, idx):\n",
    "        # Preprocess image using CLIP's preprocessing function\n",
    "        image = self.processor(Image.open(self.jsons.iloc[idx]['image']))\n",
    "        label = torch.tensor(self.jsons.iloc[idx]['label'])\n",
    "        return image, label\n",
    "\n",
    "class Classifier(nn.Module):\n",
    "    def __init__(self, ckpt=\"openai/clip-vit-base-patch32\"):\n",
    "        super().__init__()\n",
    "        self.model = CLIPModel.from_pretrained(ckpt).to(torch.float16)\n",
    "        self.linear = nn.Linear(512, 2, dtype=torch.float16)\n",
    "    def forward(self, x):\n",
    "        image_features = self.model.get_image_features(**x)\n",
    "        x = self.linear(image_features)\n",
    "        return x\n",
    "    def to(self, device):\n",
    "        self.model.to(device)\n",
    "        self.linear.to(device)\n",
    "        return self\n",
    "    \n",
    "def collate_fn(batch):\n",
    "    images = [torch.tensor(x[0]['pixel_values'][0]) for x in batch]\n",
    "    labels = [x[1] for x in batch]\n",
    "    images = {'pixel_values': torch.stack(images)}\n",
    "    labels = torch.stack(labels)\n",
    "    return images, labels"
   ]
  },
  {
   "cell_type": "code",
   "execution_count": null,
   "metadata": {},
   "outputs": [],
   "source": [
    "model = Classifier().to(\"cuda\")\n",
    "processor = CLIPImageProcessor.from_pretrained(\"openai/clip-vit-base-patch32\")\n",
    "\n",
    "optimizer = torch.optim.Adam(model.parameters(), lr=5e-5,betas=(0.9,0.98),eps=1e-6,weight_decay=0.2)\n",
    "loss = nn.CrossEntropyLoss()\n",
    "\n",
    "\n",
    "json_path = \"train.json\" \n",
    "train_dataset = RealFakeDataset(json_path, processor)\n",
    "train_dataloader = DataLoader(train_dataset, batch_size=2, shuffle=True, collate_fn=collate_fn)"
   ]
  },
  {
   "cell_type": "code",
   "execution_count": null,
   "metadata": {},
   "outputs": [],
   "source": [
    "num_epochs = 30\n",
    "for epoch in range(num_epochs):\n",
    "    pbar = tqdm(train_dataloader, total=len(train_dataloader))\n",
    "    for batch in pbar:\n",
    "        optimizer.zero_grad()\n",
    "        images, labels = batch \n",
    "        images['pixel_values'] = images['pixel_values'].to(\"cuda\")\n",
    "        labels = labels.to(\"cuda\")\n",
    "        # Forward pass\n",
    "        output = model(images)\n",
    "\n",
    "        # Compute loss\n",
    "        cls_loss = loss(output, labels)\n",
    "\n",
    "        # Backward pass\n",
    "        cls_loss.backward()\n",
    "        optimizer.step()\n",
    "\n",
    "        pbar.set_description(f\"Epoch {epoch}/{num_epochs}, Loss: {cls_loss.item():.4f}\")\n",
    "\n",
    "torch.save(model.state_dict(), \"model.pth\")"
   ]
  },
  {
   "cell_type": "code",
   "execution_count": null,
   "metadata": {},
   "outputs": [],
   "source": [
    "classifier = Classifier()\n",
    "classifier.load_state_dict(torch.load(\"model.pth\"))\n",
    "classifier = classifier.to(\"cuda\")\n",
    "\n",
    "json_path = \"train_adv.json\" \n",
    "processor = CLIPImageProcessor.from_pretrained(\"openai/clip-vit-base-patch32\")\n",
    "train_dataset = RealFakeDataset(json_path, processor)\n",
    "train_dataloader = DataLoader(train_dataset, batch_size=5, shuffle=True, collate_fn=collate_fn)\n",
    "\n",
    "class Noise(nn.Module):\n",
    "    def __init__(self, zeros, scale=1):\n",
    "        super().__init__()\n",
    "        self.scale = scale\n",
    "        self.noise = nn.Parameter(zeros)\n",
    "    def forward(self, x):\n",
    "        return x + self.scale * self.noise\n",
    "    \n",
    "noise = Noise(torch.zeros([1,3] + 2*[processor.size['shortest_edge']])).to(\"cuda\")\n",
    "optimizer = torch.optim.Adam(noise.parameters(), lr=5e-5,betas=(0.9,0.98),eps=1e-6, weight_decay=0.2)\n",
    "loss = nn.CrossEntropyLoss()\n",
    "num_epochs = 1000"
   ]
  },
  {
   "cell_type": "code",
   "execution_count": null,
   "metadata": {},
   "outputs": [],
   "source": [
    "for epoch in range(num_epochs):\n",
    "    pbar = tqdm(train_dataloader, total=len(train_dataloader))\n",
    "    for batch in pbar:\n",
    "        optimizer.zero_grad()\n",
    "        images, labels = batch \n",
    "        images['pixel_values'] = images['pixel_values'].to(\"cuda\")\n",
    "        labels = labels.to(\"cuda\")\n",
    "        images['pixel_values'] += noise(images['pixel_values'])\n",
    "\n",
    "        # Forward pass\n",
    "        output = classifier(images)\n",
    "\n",
    "        # Compute loss\n",
    "        cls_loss = loss(output, labels)\n",
    "\n",
    "        # Backward pass\n",
    "        cls_loss.backward()\n",
    "        optimizer.step()\n",
    "        # update noise with grad\n",
    "        pbar.set_description(f\"Epoch {epoch}/{num_epochs}, Loss: {cls_loss.item():.4f}\")"
   ]
  },
  {
   "cell_type": "code",
   "execution_count": null,
   "metadata": {},
   "outputs": [],
   "source": [
    "# display the noise\n",
    "import matplotlib.pyplot as plt\n",
    "plt.imshow(noise.noise[0].detach().cpu().numpy())"
   ]
  },
  {
   "cell_type": "code",
   "execution_count": 51,
   "metadata": {},
   "outputs": [
    {
     "data": {
      "text/plain": [
       "0.98681640625"
      ]
     },
     "execution_count": 51,
     "metadata": {},
     "output_type": "execute_result"
    }
   ],
   "source": [
    "# test on fake image\n",
    "\n",
    "fake = Image.open(\"train/adversarial/0_7m_5oHoyfSdSYFDB.png\")\n",
    "fake = processor(fake)\n",
    "fake['pixel_values'] = noise(torch.tensor(fake['pixel_values'][0]).to(\"cuda\"))\n",
    "\n",
    "output = classifier(fake)\n",
    "pfake = torch.softmax(output, 1)[0, 1].item()\n",
    "pfake"
   ]
  }
 ],
 "metadata": {
  "kernelspec": {
   "display_name": "venv",
   "language": "python",
   "name": "python3"
  },
  "language_info": {
   "codemirror_mode": {
    "name": "ipython",
    "version": 3
   },
   "file_extension": ".py",
   "mimetype": "text/x-python",
   "name": "python",
   "nbconvert_exporter": "python",
   "pygments_lexer": "ipython3",
   "version": "3.10.13"
  }
 },
 "nbformat": 4,
 "nbformat_minor": 2
}
