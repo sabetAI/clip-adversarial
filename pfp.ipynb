{
 "cells": [
  {
   "cell_type": "code",
   "execution_count": null,
   "metadata": {},
   "outputs": [],
   "source": [
    "\n",
    "import torch\n",
    "from PIL import Image\n",
    "from diffusers import ControlNetModel, DiffusionPipeline\n",
    "from diffusers.utils import load_image\n",
    "\n",
    "def resize_for_condition_image(input_image: Image, resolution: int):\n",
    "    input_image = input_image.convert(\"RGB\")\n",
    "    W, H = input_image.size\n",
    "    k = float(resolution) / min(H, W)\n",
    "    H *= k\n",
    "    W *= k\n",
    "    H = int(round(H / 64.0)) * 64\n",
    "    W = int(round(W / 64.0)) * 64\n",
    "    img = input_image.resize((W, H), resample=Image.LANCZOS)\n",
    "    return img\n",
    "\n",
    "controlnet = ControlNetModel.from_pretrained('ControlNet-1-1-preview/control_v11p_sd15_lineart', \n",
    "                                             torch_dtype=torch.float16)\n",
    "pipe = DiffusionPipeline.from_pretrained(\"stablediffusionapi/anything-v5\",\n",
    "                                         custom_pipeline=\"stable_diffusion_controlnet_img2img\",\n",
    "                                         controlnet=controlnet,\n",
    "                                         torch_dtype=torch.float16).to('cuda')\n",
    "pipe.enable_xformers_memory_efficient_attention()"
   ]
  },
  {
   "cell_type": "code",
   "execution_count": null,
   "metadata": {},
   "outputs": [],
   "source": [
    "source_image = Image.open(\"prof.jpg\")\n",
    "\n",
    "condition_image = resize_for_condition_image(source_image, 1024)\n",
    "image = pipe(prompt=\"akira, anime\", \n",
    "             image=condition_image, \n",
    "             controlnet_conditioning_image=condition_image, \n",
    "             \n",
    "             width=condition_image.size[0],\n",
    "             height=condition_image.size[1],\n",
    "             strength=1.0,\n",
    "             generator=torch.manual_seed(0),\n",
    "             num_inference_steps=32,\n",
    "            ).images[0]\n",
    "\n",
    "image"
   ]
  },
  {
   "cell_type": "code",
   "execution_count": null,
   "metadata": {},
   "outputs": [],
   "source": [
    "import torch\n",
    "import os\n",
    "from huggingface_hub import HfApi\n",
    "from pathlib import Path\n",
    "from diffusers.utils import load_image\n",
    "from PIL import Image\n",
    "import numpy as np\n",
    "from controlnet_aux import LineartDetector\n",
    "\n",
    "from diffusers import (\n",
    "    ControlNetModel,\n",
    "    StableDiffusionControlNetPipeline,\n",
    "    UniPCMultistepScheduler,\n",
    ")\n",
    "\n",
    "checkpoint = \"ControlNet-1-1-preview/control_v11p_sd15_lineart\"\n",
    "\n",
    "image = Image.open(\"prof.jpg\")\n",
    "image = image.resize((512, 512))\n",
    "\n",
    "prompt = \"akira\"\n",
    "processor = LineartDetector.from_pretrained(\"lllyasviel/Annotators\")\n",
    "\n",
    "control_image = processor(image)\n",
    "\n",
    "controlnet = ControlNetModel.from_pretrained(checkpoint, torch_dtype=torch.float16)\n",
    "pipe = StableDiffusionControlNetPipeline.from_pretrained(\n",
    "    \"runwayml/stable-diffusion-v1-5\", controlnet=controlnet, torch_dtype=torch.float16\n",
    ")\n",
    "\n",
    "pipe.scheduler = UniPCMultistepScheduler.from_config(pipe.scheduler.config)\n",
    "pipe.enable_model_cpu_offload()\n",
    "\n",
    "generator = torch.manual_seed(0)\n",
    "image = pipe(prompt, num_inference_steps=30, generator=generator, image=control_image, strength=1.0).images[0]\n",
    "\n",
    "image"
   ]
  },
  {
   "cell_type": "code",
   "execution_count": null,
   "metadata": {},
   "outputs": [],
   "source": [
    "image.save(\"output.png\")"
   ]
  },
  {
   "cell_type": "code",
   "execution_count": 1,
   "metadata": {},
   "outputs": [
    {
     "name": "stderr",
     "output_type": "stream",
     "text": [
      "/root/paint/venv/lib/python3.10/site-packages/tqdm/auto.py:21: TqdmWarning: IProgress not found. Please update jupyter and ipywidgets. See https://ipywidgets.readthedocs.io/en/stable/user_install.html\n",
      "  from .autonotebook import tqdm as notebook_tqdm\n"
     ]
    }
   ],
   "source": [
    "# !pip install opencv-python transformers accelerate\n",
    "from diffusers import StableDiffusionXLControlNetPipeline, ControlNetModel, AutoencoderKL\n",
    "from diffusers.utils import load_image\n",
    "import numpy as np\n",
    "import torch\n",
    "\n",
    "import cv2\n",
    "from PIL import Image"
   ]
  },
  {
   "cell_type": "code",
   "execution_count": 2,
   "metadata": {},
   "outputs": [
    {
     "name": "stderr",
     "output_type": "stream",
     "text": [
      "Fetching 17 files:   0%|          | 0/17 [00:00<?, ?it/s]"
     ]
    }
   ],
   "source": [
    "prompt = \"aerial view, a futuristic research complex in a bright foggy jungle, hard lighting\"\n",
    "negative_prompt = \"low quality, bad quality, sketches\"\n",
    "\n",
    "# download an image\n",
    "image = load_image(\n",
    "    \"https://hf.co/datasets/hf-internal-testing/diffusers-images/resolve/main/sd_controlnet/hf-logo.png\"\n",
    ")\n",
    "\n",
    "# initialize the models and pipeline\n",
    "controlnet_conditioning_scale = 0.5  # recommended for good generalization\n",
    "controlnet = ControlNetModel.from_pretrained(\n",
    "    \"diffusers/controlnet-canny-sdxl-1.0\", torch_dtype=torch.float16\n",
    ")\n",
    "vae = AutoencoderKL.from_pretrained(\"madebyollin/sdxl-vae-fp16-fix\", torch_dtype=torch.float16)\n",
    "pipe = StableDiffusionXLControlNetPipeline.from_pretrained(\n",
    "    \"stabilityai/stable-diffusion-xl-base-1.0\", controlnet=controlnet, vae=vae, torch_dtype=torch.float16\n",
    ")\n",
    "pipe.enable_model_cpu_offload()\n",
    "\n",
    "# get canny image\n",
    "image = np.array(image)\n",
    "image = cv2.Canny(image, 100, 200)\n",
    "image = image[:, :, None]\n",
    "image = np.concatenate([image, image, image], axis=2)\n",
    "canny_image = Image.fromarray(image)\n",
    "\n",
    "# generate image\n",
    "image = pipe(\n",
    "    prompt, controlnet_conditioning_scale=controlnet_conditioning_scale, image=canny_image\n",
    ").images[0]\n",
    "\n",
    "image"
   ]
  }
 ],
 "metadata": {
  "kernelspec": {
   "display_name": "venv",
   "language": "python",
   "name": "python3"
  },
  "language_info": {
   "codemirror_mode": {
    "name": "ipython",
    "version": 3
   },
   "file_extension": ".py",
   "mimetype": "text/x-python",
   "name": "python",
   "nbconvert_exporter": "python",
   "pygments_lexer": "ipython3",
   "version": "3.10.13"
  }
 },
 "nbformat": 4,
 "nbformat_minor": 2
}
